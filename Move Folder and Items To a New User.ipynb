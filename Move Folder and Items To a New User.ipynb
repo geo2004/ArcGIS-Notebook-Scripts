{
 "cells": [
  {
   "cell_type": "code",
   "execution_count": 1,
   "metadata": {},
   "outputs": [],
   "source": [
    "from arcgis.gis import *\n",
    "from IPython.display import display"
   ]
  },
  {
   "cell_type": "code",
   "execution_count": 2,
   "metadata": {},
   "outputs": [],
   "source": [
    "gis = GIS(\"https://sigi.pu.go.id/portalpupr\", \"ID\", \"PASS\") "
   ]
  },
  {
   "cell_type": "code",
   "execution_count": 3,
   "metadata": {},
   "outputs": [],
   "source": [
    "orig_userid = \"Sigiportal\"\n",
    "new_userid = \"Admin_BPII\""
   ]
  },
  {
   "cell_type": "code",
   "execution_count": 4,
   "metadata": {},
   "outputs": [
    {
     "data": {
      "text/html": [
       "<div class=\"9item_container\" style=\"height: auto; overflow: hidden; border: 1px solid #cfcfcf; border-radius: 2px; background: #f6fafa; line-height: 1.21429em; padding: 10px;\">\n",
       "                    <div class=\"item_left\" style=\"width: 210px; float: left;\">\n",
       "                       <a href='https://sigi.pu.go.id/portalpupr/home/user.html?user=Sigiportal' target='_blank'>\n",
       "                        <img src='https://sigi.pu.go.id/portalpupr/home/js/arcgisonline/css/images/no-user-thumb.jpg' class=\"itemThumbnail\">\n",
       "                       </a>\n",
       "                    </div>\n",
       "\n",
       "                    <div class=\"item_right\" style=\"float: none; width: auto; overflow: hidden;\">\n",
       "                        <a href='https://sigi.pu.go.id/portalpupr/home/user.html?user=Sigiportal' target='_blank'><b>Sigi portal</b>\n",
       "                        </a>\n",
       "                        <br/><br/><b>Bio</b>: Geoportal Administrator\n",
       "                        <br/><b>First Name</b>: Sigi\n",
       "                        <br/><b>Last Name</b>: portal\n",
       "                        <br/><b>Username</b>: Sigiportal\n",
       "                        <br/><b>Joined</b>: February 10, 2019\n",
       "\n",
       "                    </div>\n",
       "                </div>\n",
       "                "
      ],
      "text/plain": [
       "<User username:Sigiportal>"
      ]
     },
     "execution_count": 4,
     "metadata": {},
     "output_type": "execute_result"
    }
   ],
   "source": [
    "olduser = gis.users.get(orig_userid)\n",
    "olduser"
   ]
  },
  {
   "cell_type": "code",
   "execution_count": 11,
   "metadata": {},
   "outputs": [],
   "source": [
    "folder = olduser.folders"
   ]
  },
  {
   "cell_type": "code",
   "execution_count": 12,
   "metadata": {},
   "outputs": [
    {
     "data": {
      "text/plain": [
       "[{'username': 'Sigiportal',\n",
       "  'id': 'e7ee5174bcde42efa9c4628cbfdb8e1c',\n",
       "  'title': 'AncamanBencana',\n",
       "  'created': 1565580092273},\n",
       " {'username': 'Sigiportal',\n",
       "  'id': '15170020cf6e46fea6a5deb7b161c1ad',\n",
       "  'title': 'ATR/BPN',\n",
       "  'created': 1552591018642},\n",
       " {'username': 'Sigiportal',\n",
       "  'id': 'e174d00b9a54491c8df6983a199ddda3',\n",
       "  'title': 'Balai Peta',\n",
       "  'created': 1564468939869},\n",
       " {'username': 'Sigiportal',\n",
       "  'id': '619954aa291940179d729b2c0c265392',\n",
       "  'title': 'Balitbang Apps',\n",
       "  'created': 1566020715273},\n",
       " {'username': 'Sigiportal',\n",
       "  'id': '009857da153c43bdae7a2bdb5e4093b8',\n",
       "  'title': 'Banjir Bengkulu',\n",
       "  'created': 1564470873943},\n",
       " {'username': 'Sigiportal',\n",
       "  'id': '34781545cafe4f729cd4d460ef5b509e',\n",
       "  'title': 'Banjir Jakarta 2020',\n",
       "  'created': 1577944367406},\n",
       " {'username': 'Sigiportal',\n",
       "  'id': '3cdc2a8ebf5b413e8860d24c04eaad26',\n",
       "  'title': 'Banjir_Bilibili_Makassar',\n",
       "  'created': 1564470893947},\n",
       " {'username': 'Sigiportal',\n",
       "  'id': '985781f93ca4425eb383647eaebbd14a',\n",
       "  'title': 'Basemap',\n",
       "  'created': 1564470856966},\n",
       " {'username': 'Sigiportal',\n",
       "  'id': '0625bf6e4c23405ba88c878c404ebe1a',\n",
       "  'title': 'Bencana',\n",
       "  'created': 1564469339338},\n",
       " {'username': 'Sigiportal',\n",
       "  'id': 'dc7e3f9cef0a494abc487e1af211086f',\n",
       "  'title': 'Bencana Apps',\n",
       "  'created': 1566055526496},\n",
       " {'username': 'Sigiportal',\n",
       "  'id': 'de9543ec98c7444cad7a4c5e41706aa4',\n",
       "  'title': 'BENCANA DONGGALA',\n",
       "  'created': 1552591018949},\n",
       " {'username': 'Sigiportal',\n",
       "  'id': 'c7dae27b4bb247debffe2b9a7ce2a870',\n",
       "  'title': 'BENCANA LOMBOK',\n",
       "  'created': 1552591019197},\n",
       " {'username': 'Sigiportal',\n",
       "  'id': 'a1f38e4bef084a72bd92a22bcc189e8a',\n",
       "  'title': 'Bina Marga Apps',\n",
       "  'created': 1566015635030},\n",
       " {'username': 'Sigiportal',\n",
       "  'id': '1a7e3bcb2d1e4e749fd6c9b03f6db8e0',\n",
       "  'title': 'BNPB',\n",
       "  'created': 1552591019439},\n",
       " {'username': 'Sigiportal',\n",
       "  'id': 'e1d5aab66f4b40838eeeb547cfc4c8a4',\n",
       "  'title': 'BPIW Apps',\n",
       "  'created': 1566057922424},\n",
       " {'username': 'Sigiportal',\n",
       "  'id': '025af13af615422da9cd91b9a95b72ba',\n",
       "  'title': 'BPJT Apps',\n",
       "  'created': 1566014006745},\n",
       " {'username': 'Sigiportal',\n",
       "  'id': '66c3517e35ea4dbc8acece0502147da4',\n",
       "  'title': 'Cluster',\n",
       "  'created': 1552591019682},\n",
       " {'username': 'Sigiportal',\n",
       "  'id': '9d290d0e8ba34aa28252704bea4ffac7',\n",
       "  'title': 'Cluster1',\n",
       "  'created': 1552591019926},\n",
       " {'username': 'Sigiportal',\n",
       "  'id': 'bb33db26054743ffba709b8a138b5480',\n",
       "  'title': 'Corona',\n",
       "  'created': 1584596220851},\n",
       " {'username': 'Sigiportal',\n",
       "  'id': 'b1b18f226fef47f1955a0b45ca979a68',\n",
       "  'title': 'DataCK',\n",
       "  'created': 1598942323004},\n",
       " {'username': 'Sigiportal',\n",
       "  'id': '9d39a904355c484da864297d5dab2b2a',\n",
       "  'title': 'DWH_PUSDATIN',\n",
       "  'created': 1584523868419},\n",
       " {'username': 'Sigiportal',\n",
       "  'id': '545fac3b726245978700a1646019ae81',\n",
       "  'title': 'ESRI Apps',\n",
       "  'created': 1569412727676},\n",
       " {'username': 'Sigiportal',\n",
       "  'id': 'db0a69f6a3aa418f90acde0ffc0e5872',\n",
       "  'title': 'GempaMorotai',\n",
       "  'created': 1591438636571},\n",
       " {'username': 'Sigiportal',\n",
       "  'id': '8ba3f50326884448b61e7020435168ae',\n",
       "  'title': 'IGT Infrastruktur',\n",
       "  'created': 1584408891415},\n",
       " {'username': 'Sigiportal',\n",
       "  'id': '41bb3886227a43b3842f811834e41d60',\n",
       "  'title': 'IGT_2019',\n",
       "  'created': 1574158651907},\n",
       " {'username': 'Sigiportal',\n",
       "  'id': 'fa9ecd04230142faafd7421a23356f4c',\n",
       "  'title': 'Infrastruktur QR Qode',\n",
       "  'created': 1585194053539},\n",
       " {'username': 'Sigiportal',\n",
       "  'id': 'c0e30f4ac20248fba9a98dda533ac395',\n",
       "  'title': 'Jalan Tol',\n",
       "  'created': 1550581332071},\n",
       " {'username': 'Sigiportal',\n",
       "  'id': '129c5250d601415f83371a8642be5a34',\n",
       "  'title': 'JalanDaerah',\n",
       "  'created': 1587996178835},\n",
       " {'username': 'Sigiportal',\n",
       "  'id': 'ff36e8ec24c24376b5a0dd6819c93944',\n",
       "  'title': 'Jalur Mudik Lebaran 2018',\n",
       "  'created': 1564470924314},\n",
       " {'username': 'Sigiportal',\n",
       "  'id': '22970e31a132429893fee7b03d7290e8',\n",
       "  'title': 'KSP_2018',\n",
       "  'created': 1598357418998},\n",
       " {'username': 'Sigiportal',\n",
       "  'id': '6c0b0ab251fc43328e7adfbd67367c22',\n",
       "  'title': 'KSPN_2019',\n",
       "  'created': 1574247024009},\n",
       " {'username': 'Sigiportal',\n",
       "  'id': '1532c0d777054fa9aef419c7caab9178',\n",
       "  'title': 'Lalulintas',\n",
       "  'created': 1550581332252},\n",
       " {'username': 'Sigiportal',\n",
       "  'id': '2c28116c26fc4a8aa67262ccd9eafcce',\n",
       "  'title': 'LoketPeta',\n",
       "  'created': 1588929312885},\n",
       " {'username': 'Sigiportal',\n",
       "  'id': '3439d9aeb2a04757b8e5764630c01182',\n",
       "  'title': 'Notebooks_Scripts',\n",
       "  'created': 1588835684820},\n",
       " {'username': 'Sigiportal',\n",
       "  'id': '676b155638164b5bb6d6620552cce3b8',\n",
       "  'title': 'Palu_Earthquake_2018',\n",
       "  'created': 1564469381086},\n",
       " {'username': 'Sigiportal',\n",
       "  'id': '7f3d8424f16d4d7ca4a4885ecae3b465',\n",
       "  'title': 'Peta Informasi Bencana',\n",
       "  'created': 1564469250834},\n",
       " {'username': 'Sigiportal',\n",
       "  'id': 'c76fb1b058664967b297b491687473e6',\n",
       "  'title': 'PicsLibrary',\n",
       "  'created': 1550581331712},\n",
       " {'username': 'Sigiportal',\n",
       "  'id': '6c2a7f934d60457b9250ef20369e0d6c',\n",
       "  'title': 'Progress_Bendungan',\n",
       "  'created': 1564469231000},\n",
       " {'username': 'Sigiportal',\n",
       "  'id': '1217da3a847045d3881f594abff1372f',\n",
       "  'title': 'PUPR_Mode3D',\n",
       "  'created': 1580208083215},\n",
       " {'username': 'Sigiportal',\n",
       "  'id': '97590a3b12054a2a8ff8e0729247f9b1',\n",
       "  'title': 'Pusdatin Apps',\n",
       "  'created': 1566055137564},\n",
       " {'username': 'Sigiportal',\n",
       "  'id': '7a7a4570d35c4b8dad696de7c550528d',\n",
       "  'title': 'RTRW',\n",
       "  'created': 1600445516521},\n",
       " {'username': 'Sigiportal',\n",
       "  'id': '92985dca59214d749cd86f3170f5ccae',\n",
       "  'title': 'Satu Peta',\n",
       "  'created': 1552591020416},\n",
       " {'username': 'Sigiportal',\n",
       "  'id': '03e6fa75ba8c40c49d8d767f04b86a25',\n",
       "  'title': 'SDA Apps',\n",
       "  'created': 1566017015561},\n",
       " {'username': 'Sigiportal',\n",
       "  'id': '26cccf60fac34249a4ce81ee2ca67397',\n",
       "  'title': 'Sekolah',\n",
       "  'created': 1585284066376},\n",
       " {'username': 'Sigiportal',\n",
       "  'id': '8ce68a0087ac4c0d8202c8f4beb03701',\n",
       "  'title': 'Simbol',\n",
       "  'created': 1552591020653},\n",
       " {'username': 'Sigiportal',\n",
       "  'id': '0f7a4f038f4e4e3eb0f3e251930cf0b1',\n",
       "  'title': 'Sitroom',\n",
       "  'created': 1564469215472},\n",
       " {'username': 'Sigiportal',\n",
       "  'id': '6d9579690abe4571a6fdd821ba48474a',\n",
       "  'title': 'Strategis',\n",
       "  'created': 1552591020888},\n",
       " {'username': 'Sigiportal',\n",
       "  'id': '997454c690c6487bb804a03ce1dd077c',\n",
       "  'title': 'Survey-Pendataan Bencana Banjir Jabodetabek 2020',\n",
       "  'created': 1577959413189},\n",
       " {'username': 'Sigiportal',\n",
       "  'id': '20ad79c607b94d26bc01d3c83e6bb23a',\n",
       "  'title': 'Tsunami_Banten_Lampung',\n",
       "  'created': 1564469200599},\n",
       " {'username': 'Sigiportal',\n",
       "  'id': '5779dbc622804a0eae9c2dd52bf65ab4',\n",
       "  'title': 'Utilities',\n",
       "  'created': 1587649183618},\n",
       " {'username': 'Sigiportal',\n",
       "  'id': '97df6337f1f24d629b457c9c3fc1ae29',\n",
       "  'title': 'WebTool',\n",
       "  'created': 1588246131177},\n",
       " {'username': 'Sigiportal',\n",
       "  'id': 'e1ffa8b8fdfa47648c0989ff2d826b3b',\n",
       "  'title': 'WMS',\n",
       "  'created': 1552591021131}]"
      ]
     },
     "execution_count": 12,
     "metadata": {},
     "output_type": "execute_result"
    }
   ],
   "source": [
    "folder"
   ]
  },
  {
   "cell_type": "code",
   "execution_count": 13,
   "metadata": {},
   "outputs": [
    {
     "data": {
      "text/plain": [
       "[<Item title:\"_RTRWN_PP_2017\" type:Map Image Layer owner:Sigiportal>,\n",
       " <Item title:\"_RTR_PULAU_INDONESIA\" type:Map Image Layer owner:Sigiportal>]"
      ]
     },
     "execution_count": 13,
     "metadata": {},
     "output_type": "execute_result"
    }
   ],
   "source": [
    "folder_target = olduser.items(folder=folder[40])\n",
    "folder_target"
   ]
  },
  {
   "cell_type": "code",
   "execution_count": 15,
   "metadata": {},
   "outputs": [
    {
     "data": {
      "text/plain": [
       "{'username': 'Admin_BPII',\n",
       " 'id': '7c566f8931f84ce5a4bcfd1488d5dbbc',\n",
       " 'title': 'RTRW'}"
      ]
     },
     "execution_count": 15,
     "metadata": {},
     "output_type": "execute_result"
    }
   ],
   "source": [
    "gis.content.create_folder(\"RTRW\", owner=\"Admin_BPII\")"
   ]
  },
  {
   "cell_type": "code",
   "execution_count": 16,
   "metadata": {},
   "outputs": [],
   "source": [
    "for item in folder_target:\n",
    "        item.reassign_to(\"Admin_BPII\", target_folder=\"RTRW\")"
   ]
  }
 ],
 "metadata": {
  "kernelspec": {
   "display_name": "Python 3",
   "language": "python",
   "name": "python3"
  },
  "language_info": {
   "codemirror_mode": {
    "name": "ipython",
    "version": 3
   },
   "file_extension": ".py",
   "mimetype": "text/x-python",
   "name": "python",
   "nbconvert_exporter": "python",
   "pygments_lexer": "ipython3",
   "version": "3.6.10"
  }
 },
 "nbformat": 4,
 "nbformat_minor": 4
}
